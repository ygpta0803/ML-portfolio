{
 "cells": [
  {
   "cell_type": "markdown",
   "metadata": {},
   "source": [
    "# Flights Data Exploration Challenge\n",
    "\n",
    "In this challenge, I will explore a real-world dataset containing flights data from the US Department of Transportation.\n",
    "\n",
    "To begin my analysis, I need to load the flight dataset and take a quick look at its structure. This will help me understand what kind of information is available and whether any data cleaning might be needed.\n",
    "\n",
    "First, I import pandas, a powerful library for data manipulation, and load the dataset using pd.read_csv(). I will then display some basic information about the dataset to get an overview of its contents.\n"
   ]
  },
  {
   "cell_type": "code",
   "execution_count": 1,
   "metadata": {
    "jupyter": {
     "source_hidden": true
    }
   },
   "outputs": [
    {
     "data": {
      "text/html": [
       "<div>\n",
       "<style scoped>\n",
       "    .dataframe tbody tr th:only-of-type {\n",
       "        vertical-align: middle;\n",
       "    }\n",
       "\n",
       "    .dataframe tbody tr th {\n",
       "        vertical-align: top;\n",
       "    }\n",
       "\n",
       "    .dataframe thead th {\n",
       "        text-align: right;\n",
       "    }\n",
       "</style>\n",
       "<table border=\"1\" class=\"dataframe\">\n",
       "  <thead>\n",
       "    <tr style=\"text-align: right;\">\n",
       "      <th></th>\n",
       "      <th>Year</th>\n",
       "      <th>Month</th>\n",
       "      <th>DayofMonth</th>\n",
       "      <th>DayOfWeek</th>\n",
       "      <th>Carrier</th>\n",
       "      <th>OriginAirportID</th>\n",
       "      <th>OriginAirportName</th>\n",
       "      <th>OriginCity</th>\n",
       "      <th>OriginState</th>\n",
       "      <th>DestAirportID</th>\n",
       "      <th>DestAirportName</th>\n",
       "      <th>DestCity</th>\n",
       "      <th>DestState</th>\n",
       "      <th>CRSDepTime</th>\n",
       "      <th>DepDelay</th>\n",
       "      <th>DepDel15</th>\n",
       "      <th>CRSArrTime</th>\n",
       "      <th>ArrDelay</th>\n",
       "      <th>ArrDel15</th>\n",
       "      <th>Cancelled</th>\n",
       "    </tr>\n",
       "  </thead>\n",
       "  <tbody>\n",
       "    <tr>\n",
       "      <th>0</th>\n",
       "      <td>2013</td>\n",
       "      <td>9</td>\n",
       "      <td>16</td>\n",
       "      <td>1</td>\n",
       "      <td>DL</td>\n",
       "      <td>15304</td>\n",
       "      <td>Tampa International</td>\n",
       "      <td>Tampa</td>\n",
       "      <td>FL</td>\n",
       "      <td>12478</td>\n",
       "      <td>John F. Kennedy International</td>\n",
       "      <td>New York</td>\n",
       "      <td>NY</td>\n",
       "      <td>1539</td>\n",
       "      <td>4</td>\n",
       "      <td>0.0</td>\n",
       "      <td>1824</td>\n",
       "      <td>13</td>\n",
       "      <td>0</td>\n",
       "      <td>0</td>\n",
       "    </tr>\n",
       "    <tr>\n",
       "      <th>1</th>\n",
       "      <td>2013</td>\n",
       "      <td>9</td>\n",
       "      <td>23</td>\n",
       "      <td>1</td>\n",
       "      <td>WN</td>\n",
       "      <td>14122</td>\n",
       "      <td>Pittsburgh International</td>\n",
       "      <td>Pittsburgh</td>\n",
       "      <td>PA</td>\n",
       "      <td>13232</td>\n",
       "      <td>Chicago Midway International</td>\n",
       "      <td>Chicago</td>\n",
       "      <td>IL</td>\n",
       "      <td>710</td>\n",
       "      <td>3</td>\n",
       "      <td>0.0</td>\n",
       "      <td>740</td>\n",
       "      <td>22</td>\n",
       "      <td>1</td>\n",
       "      <td>0</td>\n",
       "    </tr>\n",
       "    <tr>\n",
       "      <th>2</th>\n",
       "      <td>2013</td>\n",
       "      <td>9</td>\n",
       "      <td>7</td>\n",
       "      <td>6</td>\n",
       "      <td>AS</td>\n",
       "      <td>14747</td>\n",
       "      <td>Seattle/Tacoma International</td>\n",
       "      <td>Seattle</td>\n",
       "      <td>WA</td>\n",
       "      <td>11278</td>\n",
       "      <td>Ronald Reagan Washington National</td>\n",
       "      <td>Washington</td>\n",
       "      <td>DC</td>\n",
       "      <td>810</td>\n",
       "      <td>-3</td>\n",
       "      <td>0.0</td>\n",
       "      <td>1614</td>\n",
       "      <td>-7</td>\n",
       "      <td>0</td>\n",
       "      <td>0</td>\n",
       "    </tr>\n",
       "    <tr>\n",
       "      <th>3</th>\n",
       "      <td>2013</td>\n",
       "      <td>7</td>\n",
       "      <td>22</td>\n",
       "      <td>1</td>\n",
       "      <td>OO</td>\n",
       "      <td>13930</td>\n",
       "      <td>Chicago O'Hare International</td>\n",
       "      <td>Chicago</td>\n",
       "      <td>IL</td>\n",
       "      <td>11042</td>\n",
       "      <td>Cleveland-Hopkins International</td>\n",
       "      <td>Cleveland</td>\n",
       "      <td>OH</td>\n",
       "      <td>804</td>\n",
       "      <td>35</td>\n",
       "      <td>1.0</td>\n",
       "      <td>1027</td>\n",
       "      <td>33</td>\n",
       "      <td>1</td>\n",
       "      <td>0</td>\n",
       "    </tr>\n",
       "    <tr>\n",
       "      <th>4</th>\n",
       "      <td>2013</td>\n",
       "      <td>5</td>\n",
       "      <td>16</td>\n",
       "      <td>4</td>\n",
       "      <td>DL</td>\n",
       "      <td>13931</td>\n",
       "      <td>Norfolk International</td>\n",
       "      <td>Norfolk</td>\n",
       "      <td>VA</td>\n",
       "      <td>10397</td>\n",
       "      <td>Hartsfield-Jackson Atlanta International</td>\n",
       "      <td>Atlanta</td>\n",
       "      <td>GA</td>\n",
       "      <td>545</td>\n",
       "      <td>-1</td>\n",
       "      <td>0.0</td>\n",
       "      <td>728</td>\n",
       "      <td>-9</td>\n",
       "      <td>0</td>\n",
       "      <td>0</td>\n",
       "    </tr>\n",
       "  </tbody>\n",
       "</table>\n",
       "</div>"
      ],
      "text/plain": [
       "   Year  Month  DayofMonth  DayOfWeek Carrier  OriginAirportID  \\\n",
       "0  2013      9          16          1      DL            15304   \n",
       "1  2013      9          23          1      WN            14122   \n",
       "2  2013      9           7          6      AS            14747   \n",
       "3  2013      7          22          1      OO            13930   \n",
       "4  2013      5          16          4      DL            13931   \n",
       "\n",
       "              OriginAirportName  OriginCity OriginState  DestAirportID  \\\n",
       "0           Tampa International       Tampa          FL          12478   \n",
       "1      Pittsburgh International  Pittsburgh          PA          13232   \n",
       "2  Seattle/Tacoma International     Seattle          WA          11278   \n",
       "3  Chicago O'Hare International     Chicago          IL          11042   \n",
       "4         Norfolk International     Norfolk          VA          10397   \n",
       "\n",
       "                            DestAirportName    DestCity DestState  CRSDepTime  \\\n",
       "0             John F. Kennedy International    New York        NY        1539   \n",
       "1              Chicago Midway International     Chicago        IL         710   \n",
       "2         Ronald Reagan Washington National  Washington        DC         810   \n",
       "3           Cleveland-Hopkins International   Cleveland        OH         804   \n",
       "4  Hartsfield-Jackson Atlanta International     Atlanta        GA         545   \n",
       "\n",
       "   DepDelay  DepDel15  CRSArrTime  ArrDelay  ArrDel15  Cancelled  \n",
       "0         4       0.0        1824        13         0          0  \n",
       "1         3       0.0         740        22         1          0  \n",
       "2        -3       0.0        1614        -7         0          0  \n",
       "3        35       1.0        1027        33         1          0  \n",
       "4        -1       0.0         728        -9         0          0  "
      ]
     },
     "execution_count": 1,
     "metadata": {},
     "output_type": "execute_result"
    }
   ],
   "source": [
    "import pandas as pd\n",
    "\n",
    "df_flights = pd.read_csv('data/flights.csv')\n",
    "df_flights.head()  # View first few rows\n"
   ]
  },
  {
   "cell_type": "code",
   "execution_count": 2,
   "metadata": {
    "scrolled": true
   },
   "outputs": [
    {
     "name": "stdout",
     "output_type": "stream",
     "text": [
      "<class 'pandas.core.frame.DataFrame'>\n",
      "RangeIndex: 271940 entries, 0 to 271939\n",
      "Data columns (total 20 columns):\n",
      " #   Column             Non-Null Count   Dtype  \n",
      "---  ------             --------------   -----  \n",
      " 0   Year               271940 non-null  int64  \n",
      " 1   Month              271940 non-null  int64  \n",
      " 2   DayofMonth         271940 non-null  int64  \n",
      " 3   DayOfWeek          271940 non-null  int64  \n",
      " 4   Carrier            271940 non-null  object \n",
      " 5   OriginAirportID    271940 non-null  int64  \n",
      " 6   OriginAirportName  271940 non-null  object \n",
      " 7   OriginCity         271940 non-null  object \n",
      " 8   OriginState        271940 non-null  object \n",
      " 9   DestAirportID      271940 non-null  int64  \n",
      " 10  DestAirportName    271940 non-null  object \n",
      " 11  DestCity           271940 non-null  object \n",
      " 12  DestState          271940 non-null  object \n",
      " 13  CRSDepTime         271940 non-null  int64  \n",
      " 14  DepDelay           271940 non-null  int64  \n",
      " 15  DepDel15           269179 non-null  float64\n",
      " 16  CRSArrTime         271940 non-null  int64  \n",
      " 17  ArrDelay           271940 non-null  int64  \n",
      " 18  ArrDel15           271940 non-null  int64  \n",
      " 19  Cancelled          271940 non-null  int64  \n",
      "dtypes: float64(1), int64(12), object(7)\n",
      "memory usage: 41.5+ MB\n"
     ]
    }
   ],
   "source": [
    "df_flights.info() # Check Data Structure"
   ]
  },
  {
   "cell_type": "markdown",
   "metadata": {},
   "source": [
    "The dataset contains observations of US domestic flights in 2013, and consists of the following fields:\n",
    "\n",
    "- **Year**: The year of the flight (all records are from 2013)\n",
    "- **Month**: The month of the flight\n",
    "- **DayofMonth**: The day of the month on which the flight departed\n",
    "- **DayOfWeek**: The day of the week on which the flight departed - from 1 (Monday) to 7 (Sunday)\n",
    "- **Carrier**: The two-letter abbreviation for the airline.\n",
    "- **OriginAirportID**: A unique numeric identifier for the departure aiport\n",
    "- **OriginAirportName**: The full name of the departure airport\n",
    "- **OriginCity**: The departure airport city\n",
    "- **OriginState**: The departure airport state\n",
    "- **DestAirportID**: A unique numeric identifier for the destination aiport\n",
    "- **DestAirportName**: The full name of the destination airport\n",
    "- **DestCity**: The destination airport city\n",
    "- **DestState**: The destination airport state\n",
    "- **CRSDepTime**: The scheduled departure time\n",
    "- **DepDelay**: The number of minutes departure was delayed (flight that left ahead of schedule have a negative value)\n",
    "- **DelDelay15**: A binary indicator that departure was delayed by more than 15 minutes (and therefore considered \"late\")\n",
    "- **CRSArrTime**: The scheduled arrival time\n",
    "- **ArrDelay**: The number of minutes arrival was delayed (flight that arrived ahead of schedule have a negative value)\n",
    "- **ArrDelay15**: A binary indicator that arrival was delayed by more than 15 minutes (and therefore considered \"late\")\n",
    "- **Cancelled**: A binary indicator that the flight was cancelled\n",
    "\n",
    "My aim is to explore the flight data to analyze possible factors that affect delays in departure or arrival of a flight.\n"
   ]
  },
  {
   "cell_type": "markdown",
   "metadata": {
    "jp-MarkdownHeadingCollapsed": true
   },
   "source": [
    "#### Cleaning Data\n",
    "\n",
    "Before diving into the analysis, I need to clean the data to ensure missing values and outliers don’t distort the results.\n",
    "\n",
    "I’ll first check for missing values and decide whether to fill or remove them, as incomplete data can impact accuracy. Then, I’ll identify outliers in DepDelay and ArrDelay using boxplots to determine if extreme delays should be adjusted or removed."
   ]
  },
  {
   "cell_type": "markdown",
   "metadata": {},
   "source": [
    "##### Idenitfying null or missing values \n",
    "After reviewing the missing data, I notice that **all rows where `DepDel15` is missing correspond to flights with `DepDelay` of 0**. Since `DepDel15` is a binary indicator of whether a flight was delayed by 15 minutes or more, it makes sense to assume that if `DepDelay` is 0, the missing `DepDel15` value should also be 0.  \n",
    "\n",
    "To fix this, I will fill the missing values with `0`."
   ]
  },
  {
   "cell_type": "code",
   "execution_count": 3,
   "metadata": {},
   "outputs": [
    {
     "name": "stdout",
     "output_type": "stream",
     "text": [
      "        Year  Month  DayofMonth  DayOfWeek Carrier  OriginAirportID  \\\n",
      "171     2013      4          18          4      DL            10397   \n",
      "359     2013      5          22          3      OO            11433   \n",
      "429     2013      7           3          3      MQ            13851   \n",
      "545     2013      4          13          6      FL            14524   \n",
      "554     2013      5           8          3      EV            12953   \n",
      "...      ...    ...         ...        ...     ...              ...   \n",
      "271410  2013      8           5          1      WN            14831   \n",
      "271607  2013      6          18          2      EV            14100   \n",
      "271634  2013      5           8          3      AA            11298   \n",
      "271671  2013     10           8          2      WN            12892   \n",
      "271885  2013      5          15          3      US            14771   \n",
      "\n",
      "                               OriginAirportName         OriginCity  \\\n",
      "171     Hartsfield-Jackson Atlanta International            Atlanta   \n",
      "359                   Detroit Metro Wayne County            Detroit   \n",
      "429                            Will Rogers World      Oklahoma City   \n",
      "545                       Richmond International           Richmond   \n",
      "554                                    LaGuardia           New York   \n",
      "...                                          ...                ...   \n",
      "271410   Norman Y. Mineta San Jose International           San Jose   \n",
      "271607                Philadelphia International       Philadelphia   \n",
      "271634           Dallas/Fort Worth International  Dallas/Fort Worth   \n",
      "271671                 Los Angeles International        Los Angeles   \n",
      "271885               San Francisco International      San Francisco   \n",
      "\n",
      "       OriginState  DestAirportID                             DestAirportName  \\\n",
      "171             GA          13930                Chicago O'Hare International   \n",
      "359             MI          13930                Chicago O'Hare International   \n",
      "429             OK          13930                Chicago O'Hare International   \n",
      "545             VA          10397    Hartsfield-Jackson Atlanta International   \n",
      "554             NY          11193  Cincinnati/Northern Kentucky International   \n",
      "...            ...            ...                                         ...   \n",
      "271410          CA          10800                                    Bob Hope   \n",
      "271607          PA          13244                       Memphis International   \n",
      "271634          TX          14100                  Philadelphia International   \n",
      "271671          CA          12889                      McCarran International   \n",
      "271885          CA          14100                  Philadelphia International   \n",
      "\n",
      "            DestCity DestState  CRSDepTime  DepDelay  DepDel15  CRSArrTime  \\\n",
      "171          Chicago        IL         835         0       NaN         945   \n",
      "359          Chicago        IL        1719         0       NaN        1738   \n",
      "429          Chicago        IL        1935         0       NaN        2125   \n",
      "545          Atlanta        GA         630         0       NaN         809   \n",
      "554       Cincinnati        OH        1320         0       NaN        1524   \n",
      "...              ...       ...         ...       ...       ...         ...   \n",
      "271410       Burbank        CA        1525         0       NaN        1625   \n",
      "271607       Memphis        TN         600         0       NaN         729   \n",
      "271634  Philadelphia        PA        1325         0       NaN        1745   \n",
      "271671     Las Vegas        NV        1440         0       NaN        1540   \n",
      "271885  Philadelphia        PA        1059         0       NaN        1918   \n",
      "\n",
      "        ArrDelay  ArrDel15  Cancelled  \n",
      "171            0         1          1  \n",
      "359            0         1          1  \n",
      "429            0         1          1  \n",
      "545            0         1          1  \n",
      "554            0         1          1  \n",
      "...          ...       ...        ...  \n",
      "271410         0         1          1  \n",
      "271607         0         1          1  \n",
      "271634         0         1          1  \n",
      "271671         0         1          1  \n",
      "271885         0         1          1  \n",
      "\n",
      "[2761 rows x 20 columns]\n",
      "[0]\n"
     ]
    }
   ],
   "source": [
    "# Identify missing values in each column\n",
    "df_flights.isnull().sum()    \n",
    "\n",
    "# Print all rows where any value is missing\n",
    "print(df_flights[df_flights.isnull().any(axis=1)])  \n",
    "\n",
    "# Check the values of DepDelay where DelDelay15 is missing\n",
    "print(df_flights[df_flights.isnull().any(axis=1)]['DepDelay'].unique()) \n",
    "\n",
    "# Fill missing values in DepDel15 with 0\n",
    "df_flights['DepDel15'] = df_flights.DepDel15.fillna(0)"
   ]
  },
  {
   "cell_type": "code",
   "execution_count": 4,
   "metadata": {
    "jupyter": {
     "source_hidden": true
    },
    "scrolled": true
   },
   "outputs": [
    {
     "name": "stdout",
     "output_type": "stream",
     "text": [
      "Year                 0\n",
      "Month                0\n",
      "DayofMonth           0\n",
      "DayOfWeek            0\n",
      "Carrier              0\n",
      "OriginAirportID      0\n",
      "OriginAirportName    0\n",
      "OriginCity           0\n",
      "OriginState          0\n",
      "DestAirportID        0\n",
      "DestAirportName      0\n",
      "DestCity             0\n",
      "DestState            0\n",
      "CRSDepTime           0\n",
      "DepDelay             0\n",
      "DepDel15             0\n",
      "CRSArrTime           0\n",
      "ArrDelay             0\n",
      "ArrDel15             0\n",
      "Cancelled            0\n",
      "dtype: int64\n",
      "Year                 0\n",
      "Month                0\n",
      "DayofMonth           0\n",
      "DayOfWeek            0\n",
      "Carrier              0\n",
      "OriginAirportID      0\n",
      "OriginAirportName    0\n",
      "OriginCity           0\n",
      "OriginState          0\n",
      "DestAirportID        0\n",
      "DestAirportName      0\n",
      "DestCity             0\n",
      "DestState            0\n",
      "CRSDepTime           0\n",
      "DepDelay             0\n",
      "DepDel15             0\n",
      "CRSArrTime           0\n",
      "ArrDelay             0\n",
      "ArrDel15             0\n",
      "Cancelled            0\n",
      "dtype: int64\n"
     ]
    }
   ],
   "source": [
    "# Confirm missing values after handling them\n",
    "print(df_flights.isnull().sum())\n",
    "print(df_flights.isna().sum())\n"
   ]
  },
  {
   "cell_type": "markdown",
   "metadata": {
    "jp-MarkdownHeadingCollapsed": true
   },
   "source": [
    "##### Identifying any outliers in DepDelay and ArrDelay\n",
    "Now that I have handled missing values, the next step is to identify outliers in departure and arrival delays. Outliers can distort the analysis, making it harder to recognize general trends. To detect them, I will first use boxplots, which help visualize the spread of delay times and highlight extreme values.\n",
    "\n",
    "In addition to boxplots, I will also generate histograms to examine the distribution of DepDelay and ArrDelay, along with summary statistics to quantify key measures such as the mean, median, and interquartile range (IQR). This will provide a clearer picture of how delays are distributed and whether they follow a specific pattern."
   ]
  },
  {
   "cell_type": "code",
   "execution_count": 5,
   "metadata": {
    "jupyter": {
     "source_hidden": true
    },
    "scrolled": true
   },
   "outputs": [
    {
     "data": {
      "image/png": "[encoded data removed]",
      "text/plain": [
       "<Figure size 1400x800 with 4 Axes>"
      ]
     },
     "metadata": {},
     "output_type": "display_data"
    },
    {
     "ename": "NameError",
     "evalue": "name 'depdelay' is not defined",
     "output_type": "error",
     "traceback": [
      "\u001b[0;31m---------------------------------------------------------------------------\u001b[0m",
      "\u001b[0;31mNameError\u001b[0m                                 Traceback (most recent call last)",
      "Cell \u001b[0;32mIn[5], line 47\u001b[0m\n\u001b[1;32m     45\u001b[0m plot_delay_distributions(df_flights)\n\u001b[1;32m     46\u001b[0m \u001b[38;5;66;03m# Summary Statistics\u001b[39;00m\n\u001b[0;32m---> 47\u001b[0m \u001b[38;5;28mprint\u001b[39m(\u001b[38;5;124m\"\u001b[39m\u001b[38;5;130;01m\\n\u001b[39;00m\u001b[38;5;124mSummary Statistics for Departure Delay:\u001b[39m\u001b[38;5;130;01m\\n\u001b[39;00m\u001b[38;5;124m\"\u001b[39m, \u001b[43mdepdelay\u001b[49m\u001b[38;5;241m.\u001b[39mdescribe())\n\u001b[1;32m     48\u001b[0m \u001b[38;5;28mprint\u001b[39m(\u001b[38;5;124m\"\u001b[39m\u001b[38;5;130;01m\\n\u001b[39;00m\u001b[38;5;124mSummary Statistics for Arrival Delay:\u001b[39m\u001b[38;5;130;01m\\n\u001b[39;00m\u001b[38;5;124m\"\u001b[39m, arrdelay\u001b[38;5;241m.\u001b[39mdescribe())\n",
      "\u001b[0;31mNameError\u001b[0m: name 'depdelay' is not defined"
     ]
    }
   ],
   "source": [
    "# we can look for outliers using boxplots  \n",
    "%matplotlib inline\n",
    "\n",
    "\n",
    "import matplotlib.pyplot as plt\n",
    "\n",
    "def plot_delay_distributions(df, dep_col='DepDelay', arr_col='ArrDelay'):\n",
    "    \"\"\"\n",
    "    Plots boxplots and histograms for departure and arrival delays.\n",
    "\n",
    "    Parameters:\n",
    "    df (DataFrame): The dataset containing flight delays.\n",
    "    dep_col (str): Column name for departure delay.\n",
    "    arr_col (str): Column name for arrival delay.\n",
    "\n",
    "    Returns:\n",
    "    None\n",
    "    \"\"\"\n",
    "    # Create figure with 2 rows and 2 columns\n",
    "    fig, axes = plt.subplots(2, 2, figsize=(14, 8))\n",
    "\n",
    "    # Boxplot for Departure Delay\n",
    "    axes[0, 0].boxplot(df[dep_col], vert=False, patch_artist=True, boxprops=dict(facecolor=\"skyblue\"))\n",
    "    axes[0, 0].set_title('Departure Delay - Boxplot')\n",
    "\n",
    "    # Histogram for Departure Delay\n",
    "    axes[0, 1].hist(df[dep_col], bins=50, color=\"steelblue\", edgecolor=\"black\", alpha=0.7)\n",
    "    axes[0, 1].set_title('Departure Delay - Distribution')\n",
    "    axes[0, 1].set_xlabel('Minutes of Delay')\n",
    "\n",
    "    # Boxplot for Arrival Delay\n",
    "    axes[1, 0].boxplot(df[arr_col], vert=False, patch_artist=True, boxprops=dict(facecolor=\"salmon\"))\n",
    "    axes[1, 0].set_title('Arrival Delay - Boxplot')\n",
    "\n",
    "    # Histogram for Arrival Delay\n",
    "    axes[1, 1].hist(df[arr_col], bins=50, color=\"firebrick\", edgecolor=\"black\", alpha=0.7)\n",
    "    axes[1, 1].set_title('Arrival Delay - Distribution')\n",
    "    axes[1, 1].set_xlabel('Minutes of Delay')\n",
    "\n",
    "    # Adjust layout for better spacing\n",
    "    plt.tight_layout()\n",
    "    plt.show()\n",
    "\n",
    "\n",
    "plot_delay_distributions(df_flights)\n",
    "# Summary Statistics\n",
    "print(\"\\nSummary Statistics for Departure Delay:\\n\", depdelay.describe())\n",
    "print(\"\\nSummary Statistics for Arrival Delay:\\n\", arrdelay.describe())"
   ]
  },
  {
   "cell_type": "markdown",
   "metadata": {},
   "source": [
    "The summary statistics and boxplots show that most flights depart on time or early, with a median departure delay of -1 minute and a median arrival delay of -3 minutes. However, the dataset contains extreme outliers, with some flights experiencing delays over 24 hours. These extreme values inflate the mean delay and can distort the analysis.\n",
    "\n",
    "To handle this, I will apply percentile-based trimming, keeping only flights where the delay falls between the 1st and 90th percentiles. This method ensures that I remove the most extreme outliers while preserving the majority of realistic delays, making the analysis more reliable without discarding too much valid data. This will keep 98% of the dataset and only remove the most extreme delays at both ends."
   ]
  },
  {
   "cell_type": "code",
   "execution_count": null,
   "metadata": {
    "jupyter": {
     "source_hidden": true
    }
   },
   "outputs": [],
   "source": [
    "# Define percentile thresholds\n",
    "lower_dep = df_flights['DepDelay'].quantile(0.01)  # 1st percentile\n",
    "upper_dep = df_flights['DepDelay'].quantile(0.90)  # 90th percentile\n",
    "\n",
    "lower_arr = df_flights['ArrDelay'].quantile(0.01)  # 1st percentile\n",
    "upper_arr = df_flights['ArrDelay'].quantile(0.90)  # 90th percentile\n",
    "\n",
    "# Trim data to exclude extreme outliers\n",
    "df_flights_trimmed = df_flights[\n",
    "    (df_flights['DepDelay'] >= lower_dep) & (df_flights['DepDelay'] <= upper_dep) &\n",
    "    (df_flights['ArrDelay'] >= lower_arr) & (df_flights['ArrDelay'] <= upper_arr)\n",
    "]\n",
    "\n",
    "# Check new summary statistics\n",
    "plot_delay_distributions(df_flights_trimmed)\n",
    "print(df_flights_trimmed[['DepDelay', 'ArrDelay']].describe())"
   ]
  },
  {
   "cell_type": "markdown",
   "metadata": {},
   "source": [
    "After applying the 1st and 90th percentile trimming, the dataset now contains 237,105 flights, meaning that only the most extreme delays were removed.\n",
    "\n",
    "The mean departure delay dropped from 10.35 minutes to 1.31 minutes, showing that extreme delays were inflating the original average.\n",
    "The standard deviation significantly decreased for both DepDelay (from 35.67 to 9.33) and ArrDelay (from 38.23 to 13.14), meaning the dataset is now less skewed by extreme values.\n",
    "The maximum delay values were capped at 37 minutes for departures and 38 minutes for arrivals, removing extreme 1000+ minute delays while keeping meaningful variations.\n",
    "Overall, this adjustment makes the data more representative of typical flight delays, ensuring that insights drawn from it are reliable and not overly influenced by a small number of extreme cases."
   ]
  },
  {
   "cell_type": "markdown",
   "metadata": {},
   "source": [
    "#### Explore Clean Data\n",
    "\n",
    "Now that I have cleaned the data and handled outliers, I will analyze patterns and trends in flight delays using summary statistics, aggregation functions, and visualizations. The key questions I will explore are:\n",
    "\n",
    "- *What are the average (mean) departure and arrival delays?*\n",
    "- *How do the carriers compare in terms of arrival delay performance?*\n",
    "- *Is there a noticable difference in arrival delays for different days of the week?*\n",
    "- *Which departure airport has the highest average departure delay?*\n",
    "- *Do **late** departures tend to result in longer arrival delays than on-time departures?*\n",
    "- *Which route (from origin airport to destination airport) has the most **late** arrivals?*\n",
    "- *Which route has the highest average arrival delay?*\n",
    "\n",
    "By answering these questions, I will uncover patterns in flight delays and identify key factors that contribute to them."
   ]
  },
  {
   "cell_type": "code",
   "execution_count": null,
   "metadata": {},
   "outputs": [],
   "source": [
    "df_flights = df_flights_trimmed\n",
    "df_flights.describe()"
   ]
  },
  {
   "cell_type": "markdown",
   "metadata": {
    "jp-MarkdownHeadingCollapsed": true
   },
   "source": [
    "##### What are the average (mean) departure and arrival delays?"
   ]
  },
  {
   "cell_type": "code",
   "execution_count": null,
   "metadata": {},
   "outputs": [],
   "source": [
    "# Calculate mean departure and arrival delays\n",
    "mean_depDelay = df_flights.DepDelay.mean()\n",
    "mean_arrDelay = df_flights.ArrDelay.mean()\n",
    "\n",
    "print(f'Average Departure Delays: {mean_depDelay} \\nAverage Arrival Delays: {mean_arrDelay}')"
   ]
  },
  {
   "cell_type": "markdown",
   "metadata": {
    "jp-MarkdownHeadingCollapsed": true
   },
   "source": [
    "##### How do the carriers compare in terms of arrival delay performance?\n",
    "\n",
    "To compare how different airlines perform in terms of arrival delays, I will calculate:\n",
    "\n",
    "- Total flights per carrier\n",
    "- The fraction of flights that were delayed (arrival delay > 0 minutes)\n",
    "- The fraction of flights delayed by more than 15 minutes\n",
    "\n",
    "This will help identify which carriers are most reliable and which ones tend to experience frequent or severe delays."
   ]
  },
  {
   "cell_type": "code",
   "execution_count": null,
   "metadata": {
    "scrolled": true
   },
   "outputs": [],
   "source": [
    "# Calculate total flights per carrier\n",
    "carriers = df_flights.groupby('Carrier').size().reset_index(name='Total Flights')\n",
    "\n",
    "# Calculate total delayed flights (arrival delay > 0)\n",
    "delayed_by_carriers = df_flights.groupby('Carrier').agg(total_delay=('ArrDelay', lambda x: (x > 0).sum()))\n",
    "\n",
    "# Merge with total flights data\n",
    "carriers = carriers.merge(delayed_by_carriers, on='Carrier', how='left')\n",
    "\n",
    "# Calculate flights delayed by more than 15 minutes\n",
    "delay_15 = df_flights.groupby('Carrier').agg(delay_over_15=('ArrDelay', lambda x: (x >= 15).sum()))\n",
    "\n",
    "# Merge with previous dataset\n",
    "carriers = carriers.merge(delay_15, on='Carrier', how='left')\n",
    "\n",
    "# Compute delay fractions\n",
    "carriers['delay_fraction'] = carriers['total_delay'] / carriers['Total Flights']  # Fraction of delayed flights\n",
    "carriers['delay_15_fraction'] = carriers['delay_over_15'] / carriers['total_delay']  # Fraction of flights delayed >15 min\n",
    "\n",
    "# Display results\n",
    "print(carriers)\n",
    "\n"
   ]
  },
  {
   "cell_type": "code",
   "execution_count": null,
   "metadata": {
    "scrolled": true
   },
   "outputs": [],
   "source": [
    "from matplotlib import pyplot as plt\n",
    "import numpy as np\n",
    "\n",
    "# Define x-axis positions for bars\n",
    "x = np.arange(len(carriers))\n",
    "bar_width = 0.35\n",
    "\n",
    "# Create a figure\n",
    "fig, ax = plt.subplots(figsize=(15,6))\n",
    "\n",
    "# Plot the bars\n",
    "ax.bar(x - bar_width/2, carriers['delay_fraction'], width=bar_width, label='Total fraction of flights delayed', color='red')\n",
    "ax.bar(x + bar_width/2, carriers['delay_15_fraction'], width=bar_width, label='Total fraction of flights delayed >15min', color='green')\n",
    "\n",
    "# Formatting\n",
    "ax.legend()\n",
    "ax.set_xticks(x)\n",
    "ax.set_xticklabels(carriers['Carrier'], rotation=45)\n",
    "\n",
    "plt.title('Flight Delay Performance by Carrier')\n",
    "plt.ylabel('Fraction of Delayed Flights')\n",
    "plt.xlabel('Carrier')\n",
    "\n",
    "plt.show()"
   ]
  },
  {
   "cell_type": "markdown",
   "metadata": {},
   "source": [
    "- Bar Chart Analysis : The red bars represent the total fraction of delayed flights for each carrier.\n",
    "and the green bars represent the fraction of delayed flights that were delayed for more than 15 minutes.\n",
    "Carriers with high red and green bars (e.g., F9, WN) tend to have frequent and severe delays.\n",
    "Some carriers (e.g., HA) have a lower fraction of total delays, suggesting better on-time performance.\n",
    "Airlines where the green bar is much smaller than the red bar indicate that most of their delays are short (less than 15 minutes)."
   ]
  },
  {
   "cell_type": "code",
   "execution_count": null,
   "metadata": {},
   "outputs": [],
   "source": [
    "import matplotlib.pyplot as plt\n",
    "\n",
    "# Create a figure with two subplots (one for departure delay, one for arrival delay)\n",
    "fig, axes = plt.subplots(2, 1, figsize=(14, 10))\n",
    "\n",
    "# Boxplot for Departure Delay by Carrier\n",
    "axes[0].boxplot([df_flights[df_flights['Carrier'] == carrier]['DepDelay'] for carrier in carriers['Carrier']],\n",
    "                labels=carriers['Carrier'], vert=False, patch_artist=True)\n",
    "axes[0].set_title('Departure Delay Distribution by Carrier')\n",
    "axes[0].set_xlabel('Minutes of Delay')\n",
    "axes[0].set_ylabel('Carrier')\n",
    "\n",
    "# Boxplot for Arrival Delay by Carrier\n",
    "axes[1].boxplot([df_flights[df_flights['Carrier'] == carrier]['ArrDelay'] for carrier in carriers['Carrier']],\n",
    "                labels=carriers['Carrier'], vert=False, patch_artist=True)\n",
    "axes[1].set_title('Arrival Delay Distribution by Carrier')\n",
    "axes[1].set_xlabel('Minutes of Delay')\n",
    "axes[1].set_ylabel('Carrier')\n",
    "\n",
    "# Adjust layout for better readability\n",
    "plt.tight_layout()\n",
    "plt.show()\n"
   ]
  },
  {
   "cell_type": "markdown",
   "metadata": {},
   "source": [
    "\n",
    "- Boxplot Analysis: The departure delay boxplot shows that most airlines have a compact distribution with relatively short delays, but some carriers exhibit significant outliers, meaning they frequently experience extreme delays.\n",
    "The arrival delay boxplot follows a similar trend, with some airlines consistently arriving late, while others show a more balanced distribution, including early arrivals (negative values). Most flights have similar spread in their arrival delays. \n",
    "Airlines with a longer interquartile range (IQR) in the boxplots tend to have higher delay variability, meaning their performance is inconsistent - examples of such airlines are WN for Delays in Departure. Overall, there is a greater spread in arrival delays than in departure delays.\n"
   ]
  },
  {
   "cell_type": "markdown",
   "metadata": {
    "jp-MarkdownHeadingCollapsed": true
   },
   "source": [
    "##### Is there a noticable difference in arrival delays for different days of the week?"
   ]
  },
  {
   "cell_type": "code",
   "execution_count": null,
   "metadata": {},
   "outputs": [],
   "source": [
    "import pandas as pd\n",
    "import matplotlib.pyplot as plt\n",
    "from functools import reduce\n",
    "\n",
    "# Group data by Day of the Week\n",
    "days = df_flights.groupby('DayOfWeek').size().reset_index(name='Total Flights')\n",
    "days_no_delayed = df_flights.groupby('DayOfWeek').agg(no_delayed=('ArrDelay', lambda x: (x > 0).sum()))\n",
    "days_total_delayed = df_flights.groupby('DayOfWeek').agg(total_delay_time=('ArrDelay', lambda x: x.sum()))\n",
    "days_no_15delayed = df_flights.groupby('DayOfWeek').agg(no_delayed=('ArrDelay', lambda x: (x >= 15).sum()))\n",
    "\n",
    "# Merge all data into one DataFrame\n",
    "dfs = [days, days_no_delayed, days_no_15delayed, days_total_delayed]\n",
    "merged_df = reduce(lambda left, right: pd.merge(left, right, on='DayOfWeek', how='inner'), dfs)\n",
    "\n",
    "# Calculate percentage of flights delayed\n",
    "merged_df['Total:delayed'] = (merged_df['no_delayed_x'] / merged_df['Total Flights']) * 100\n",
    "merged_df['Total:15delayed'] = (merged_df['no_delayed_y'] / merged_df['Total Flights']) * 100\n",
    "\n",
    "# Display the merged DataFrame\n",
    "print(merged_df)"
   ]
  },
  {
   "cell_type": "code",
   "execution_count": null,
   "metadata": {},
   "outputs": [],
   "source": [
    "# Create bar chart for delays by day of the week\n",
    "fig, ax = plt.subplots(figsize=(10, 5))\n",
    "\n",
    "ax.bar(merged_df['DayOfWeek'], merged_df['Total:delayed'], label='Total Flights Delayed', color='blue')\n",
    "ax.bar(merged_df['DayOfWeek'], merged_df['Total:15delayed'], label='Flights Delayed > 15 min', color='orange')\n",
    "\n",
    "# Formatting\n",
    "ax.set_xlabel('Day of the Week')\n",
    "ax.set_ylabel('Percentage of Flights Delayed')\n",
    "ax.set_title('Total Delayed Flights and Delayed > 15 minutes per Day')\n",
    "ax.legend()\n",
    "\n",
    "plt.show()"
   ]
  },
  {
   "cell_type": "markdown",
   "metadata": {},
   "source": [
    "- Bar Chart Analysis: Flight delays fluctuate across different days, with days 4 and 5 (likely Thursday and Friday) showing the highest percentage of delayed flights.\n",
    "Day 6 (likely Saturday) has the lowest percentage of delays, indicating that weekend flights may be more punctual. The orange portion of the bars represents flights delayed by more than 15 minutes.\n",
    "Days 4 and 5 have the highest number of severe delays, which might indicate congestion leading into the weekend.\n",
    "Days 2 and 6 have fewer severe delays, suggesting smoother operations on those days."
   ]
  },
  {
   "cell_type": "code",
   "execution_count": null,
   "metadata": {},
   "outputs": [],
   "source": [
    "# Create boxplots for arrival delays by day of the week\n",
    "plt.figure(figsize=(12, 6))\n",
    "df_flights.boxplot(column='ArrDelay', by='DayOfWeek', vert=False, patch_artist=True)\n",
    "\n",
    "plt.title('Arrival Delay Distribution by Day of the Week')\n",
    "plt.xlabel('Minutes of Delay')\n",
    "plt.ylabel('Day of the Week')\n",
    "plt.suptitle('')  # Removes default Matplotlib title\n",
    "plt.show()"
   ]
  },
  {
   "cell_type": "markdown",
   "metadata": {},
   "source": [
    "- Boxplot Analysis : The green median lines in each boxplot indicate the typical arrival delay per day.\n",
    "The medians are fairly consistent across all days, suggesting no single day has drastically worse delays. All days show several extreme outliers, indicating that long delays (30+ minutes) occur across all weekdays.\n",
    "Days 4 and 5 again have a wider range, confirming higher delay variability towards the end of the week.\n",
    "\n",
    "Overall :\n",
    "Thursdays and Fridays have the most delays, possibly due to increased travel demand leading into the weekend.\n",
    "Saturdays have fewer delays, making them a good choice for on-time arrivals.\n",
    "While most delays are short, outliers exist across all days, meaning occasional extreme delays affect all weekdays."
   ]
  },
  {
   "cell_type": "markdown",
   "metadata": {
    "jp-MarkdownHeadingCollapsed": true
   },
   "source": [
    "##### Which departure airport has the highest average departure delay?"
   ]
  },
  {
   "cell_type": "code",
   "execution_count": 39,
   "metadata": {},
   "outputs": [
    {
     "name": "stdout",
     "output_type": "stream",
     "text": [
      "The departure airport with the highest average departure delay is Chicago O'Hare International\n"
     ]
    }
   ],
   "source": [
    "# Group by origin airport and calculate mean departure delay\n",
    "airport_delay = df_flights.groupby('OriginAirportName').agg(mean_delay=('DepDelay', 'mean'))\n",
    "\n",
    "# Sort airports by highest mean delay\n",
    "airport_delay.sort_values('mean_delay', ascending=False, inplace=True)\n",
    "\n",
    "# Display the airport with the highest average departure delay\n",
    "highest_delay_airport = airport_delay.head(1)\n",
    "airport_name = highest_delay_airport.index[0]\n",
    "print(f'The departure airport with the highest average departure delay is {airport_name}')\n"
   ]
  },
  {
   "cell_type": "markdown",
   "metadata": {
    "jp-MarkdownHeadingCollapsed": true
   },
   "source": [
    "##### Do late departures tend to result in longer arrival delays than on-time departures?"
   ]
  },
  {
   "cell_type": "code",
   "execution_count": 31,
   "metadata": {},
   "outputs": [
    {
     "data": {
      "text/plain": [
       "<Axes: title={'center': 'ArrDelay'}, xlabel='DepDel15'>"
      ]
     },
     "execution_count": 31,
     "metadata": {},
     "output_type": "execute_result"
    },
    {
     "data": {
      "image/png": "[encoded data removed]",
      "text/plain": [
       "<Figure size 1200x1200 with 1 Axes>"
      ]
     },
     "metadata": {},
     "output_type": "display_data"
    }
   ],
   "source": [
    "df_flights.boxplot(column='ArrDelay', by = 'DepDel15', figsize=(12,12))"
   ]
  },
  {
   "cell_type": "markdown",
   "metadata": {},
   "source": [
    "We see that the flights that have had departures later than 15 have a far more varied range of arrival delays compared to those which were not delayed past 15 min. "
   ]
  },
  {
   "cell_type": "markdown",
   "metadata": {
    "jp-MarkdownHeadingCollapsed": true
   },
   "source": [
    "##### Which route (from origin airport to destination airport) has the most late arrivals?"
   ]
  },
  {
   "cell_type": "code",
   "execution_count": 35,
   "metadata": {},
   "outputs": [
    {
     "name": "stdout",
     "output_type": "stream",
     "text": [
      "Route with most late arrivals: Los Angeles International -> San Francisco International\n"
     ]
    }
   ],
   "source": [
    "# For each origin and destinamtion airport pair, we count the number of late arrivals\n",
    "routes = df_flights.groupby(['OriginAirportName','DestAirportName']).agg(late_arrivals_number=('ArrDelay', lambda x : (x>0).sum()))\n",
    "\n",
    "routes.sort_values('late_arrivals_number', ascending = False, inplace = True)\n",
    "most_late = routes.head(1)\n",
    "origin, destination = most_late.index[0]                                              \n",
    "print(f'Route with most late arrivals: {origin} -> {destination}')"
   ]
  },
  {
   "cell_type": "markdown",
   "metadata": {
    "jp-MarkdownHeadingCollapsed": true
   },
   "source": [
    "##### Which route has the highest average arrival delay?"
   ]
  },
  {
   "cell_type": "code",
   "execution_count": 45,
   "metadata": {},
   "outputs": [
    {
     "name": "stdout",
     "output_type": "stream",
     "text": [
      "Route with highest arrival delay is: Southwest Florida International -> Denver International\n"
     ]
    }
   ],
   "source": [
    "routes2 = df_flights.groupby(['OriginAirportName','DestAirportName']).agg(avg_arrival_del = ('ArrDelay', lambda x: x.mean()) )\n",
    "\n",
    "routes2.sort_values('avg_arrival_del', ascending = False, inplace = True)\n",
    "most_avg_delay = routes.head(1)\n",
    "origin, destination = most_avg_delay.index[0]\n",
    "print(f'Route with highest arrival delay is: {origin} -> {destination}')\n"
   ]
  }
 ],
 "metadata": {
  "kernelspec": {
   "display_name": "Python 3 (ipykernel)",
   "language": "python",
   "name": "python3"
  },
  "language_info": {
   "codemirror_mode": {
    "name": "ipython",
    "version": 3
   },
   "file_extension": ".py",
   "mimetype": "text/x-python",
   "name": "python",
   "nbconvert_exporter": "python",
   "pygments_lexer": "ipython3",
   "version": "3.11.9"
  }
 },
 "nbformat": 4,
 "nbformat_minor": 4
}
